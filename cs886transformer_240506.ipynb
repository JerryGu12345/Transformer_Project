{
 "cells": [
  {
   "cell_type": "code",
   "execution_count": 17,
   "id": "c53cc3d7",
   "metadata": {},
   "outputs": [],
   "source": [
    "import numpy as np\n",
    "import pandas as pd\n",
    "from collections import Counter\n",
    "from timeit import default_timer as timer\n",
    "\n",
    "import torch\n",
    "import torch.nn as nn\n",
    "import torch.func as func\n",
    "from torch import Tensor\n",
    "from torch.utils.data import DataLoader, Dataset, random_split\n",
    "from torchtext.data.utils import get_tokenizer\n",
    "from torchtext.vocab import build_vocab_from_iterator\n",
    "from torchtext.data.metrics import bleu_score\n",
    "import torchtext.data\n",
    "from torch.nn.utils.rnn import pad_sequence\n",
    "import spacy\n",
    "\n",
    "import math\n",
    "from copy import deepcopy\n",
    "import matplotlib.pyplot as plt\n",
    "import os\n",
    "import pickle\n",
    "\n",
    "import requests\n",
    "from datasets import load_dataset\n",
    "os.environ['KMP_DUPLICATE_LIB_OK'] = 'True'"
   ]
  },
  {
   "cell_type": "code",
   "execution_count": 2,
   "id": "771daacf",
   "metadata": {},
   "outputs": [],
   "source": [
    "DEVICE=\"cuda\"\n",
    "torch.manual_seed(1)\n",
    "np.random.seed(1)"
   ]
  },
  {
   "cell_type": "code",
   "execution_count": 3,
   "id": "4c65bd9d",
   "metadata": {},
   "outputs": [],
   "source": [
    "class Attention(nn.Module):\n",
    "    def __init__(self, d_model, nhead, dropout):\n",
    "        super(Attention,self).__init__()\n",
    "        self.nhead = nhead\n",
    "        self.d_model = d_model\n",
    "        self.d_k = d_model//nhead\n",
    "        self.W_q = nn.Linear(self.d_model, self.d_model)\n",
    "        self.W_k = nn.Linear(self.d_model, self.d_model)\n",
    "        self.W_v = nn.Linear(self.d_model, self.d_model)\n",
    "        self.W_o = nn.Linear(self.d_model, self.d_model)\n",
    "        self.elu = nn.ELU()\n",
    "        \n",
    "    def forward(self, Q, K, V, pad_mask=None, attn_mask=None):\n",
    "        Q=self.W_q(Q)\n",
    "        K=self.W_k(K)\n",
    "        V=self.W_v(V)\n",
    "        \n",
    "        Q = Q.reshape(Q.shape[0], Q.shape[1], self.nhead, self.d_k).transpose(0, 2)\n",
    "        K = K.reshape(K.shape[0], K.shape[1], self.nhead, self.d_k).transpose(0, 2)\n",
    "        V = V.reshape(V.shape[0], V.shape[1], self.nhead, self.d_k).transpose(0, 2)\n",
    "        #shape=(heads, batches, seqlen, dims)\n",
    "        \n",
    "        '''\n",
    "        X = torch.empty(Q.shape).to(DEVICE)\n",
    "        \n",
    "        def phi(x):\n",
    "            return self.elu(x)+1\n",
    "        \n",
    "        \n",
    "        for head in range(Q.shape[0]):\n",
    "            for batch in range(Q.shape[1]):\n",
    "                for i in range(Q.shape[2]):\n",
    "                    numer=0\n",
    "                    denom=torch.zeros(V.shape[3]).to(DEVICE)\n",
    "                    for j in range(V.shape[2]):\n",
    "                        if not(\n",
    "                            ((pad_mask is not None) and (pad_mask[batch,j])) \n",
    "                            or ((attn_mask is not None) and (attn_mask[i,j]))\n",
    "                        ):\n",
    "                            numer+=torch.dot(phi(K[head,batch,j]), V[head,batch,j])\n",
    "                            denom+=V[head,batch,j]\n",
    "                    phiQ=phi(Q[head,batch,i])\n",
    "                    X[head,batch,i]=phiQ*numer/torch.dot(phiQ,denom)\n",
    "                            \n",
    "        '''\n",
    "        X = torch.matmul(Q, K.transpose(2,3)) / math.sqrt(self.d_k)\n",
    "        if (pad_mask is not None):\n",
    "            #shape=(batches, seqlen)\n",
    "            X=X.masked_fill(pad_mask.reshape(1,pad_mask.shape[0],1,pad_mask.shape[1]), -1.0e10)\n",
    "        \n",
    "        if (attn_mask is not None):\n",
    "            #shape=(seqlen, seqlen)\n",
    "            X=X.masked_fill(attn_mask.reshape(1,1,attn_mask.shape[0],attn_mask.shape[1]), -1.0e10)\n",
    "        \n",
    "        X = torch.softmax(X,dim=3)\n",
    "        X = torch.matmul(X, V)\n",
    "        #'''\n",
    "        X = X.transpose(0,2)\n",
    "        X = X.reshape(X.shape[0],X.shape[1],X.shape[2]*X.shape[3])\n",
    "        X = self.W_o(X)\n",
    "        return X\n",
    "    \n",
    "class Encoder(nn.Module):\n",
    "    def __init__(self, d_model, nhead, d_ff, dropout):\n",
    "        super(Encoder, self).__init__()\n",
    "        self.mha = Attention(d_model, nhead, dropout)\n",
    "        #self.mha = nn.MultiheadAttention(d_model,nhead)\n",
    "        self.feed_forward = nn.Sequential(\n",
    "            nn.Linear(d_model,d_ff),\n",
    "            nn.ReLU(),\n",
    "            nn.Linear(d_ff,d_model)\n",
    "        )\n",
    "        \n",
    "        self.norm1=nn.LayerNorm(d_model)\n",
    "        self.norm2=nn.LayerNorm(d_model)\n",
    "        self.dropout=nn.Dropout(dropout)\n",
    "        \n",
    "    def forward(self, X, src_pad_mask=None):\n",
    "        sub_X = self.mha(X,X,X,src_pad_mask)\n",
    "        X=self.norm1(X+self.dropout(sub_X))\n",
    "        sub_X=self.feed_forward(X)\n",
    "        X=self.norm2(X+self.dropout(sub_X))\n",
    "        return X\n",
    "\n",
    "class Decoder(nn.Module):\n",
    "    def __init__(self, d_model, nhead, d_ff, dropout):\n",
    "        super(Decoder, self).__init__()\n",
    "        self.mha = Attention(d_model, nhead, dropout)\n",
    "        self.masked_mha = Attention(d_model, nhead, dropout)\n",
    "        #self.mha = nn.MultiheadAttention(d_model,nhead)\n",
    "        #self.masked_mha = nn.MultiheadAttention(d_model,nhead)\n",
    "        self.feed_forward = nn.Sequential(\n",
    "            nn.Linear(d_model,d_ff),\n",
    "            nn.ReLU(),\n",
    "            nn.Linear(d_ff,d_model)\n",
    "        )\n",
    "        self.norm1 = nn.LayerNorm(d_model)\n",
    "        self.norm2 = nn.LayerNorm(d_model)\n",
    "        self.norm3 = nn.LayerNorm(d_model)\n",
    "        self.dropout = nn.Dropout(dropout)\n",
    "        \n",
    "    def forward(self, X, memory, src_pad_mask=None, trg_pad_mask=None):\n",
    "        sub_X=self.masked_mha(X,X,X, trg_pad_mask, \n",
    "                              attn_mask=(1-torch.tril(torch.ones(X.shape[0],X.shape[0]))).bool().to(DEVICE))\n",
    "        X=self.norm1(X+self.dropout(sub_X))\n",
    "        sub_X = self.mha(X, memory, memory, src_pad_mask)\n",
    "        X=self.norm2(X+self.dropout(sub_X))\n",
    "        sub_X = self.feed_forward(X)\n",
    "        X=self.norm3(X+self.dropout(sub_X))\n",
    "        return X\n",
    "\n",
    "class PositionalEncoding(nn.Module):\n",
    "    def __init__(self,d_model,max_len=1000):\n",
    "        super(PositionalEncoding, self).__init__()\n",
    "        PE=torch.empty((max_len,d_model))\n",
    "        pos=torch.arange(max_len).reshape((max_len,1))\n",
    "        wave_len=10000**(torch.arange(0,d_model,step=2)/d_model)\n",
    "        PE[:,0::2]=torch.sin(pos*wave_len)\n",
    "        PE[:,1::2]=torch.cos(pos*wave_len)\n",
    "        self.register_buffer('PE', PE) #to run on gpu\n",
    "    def forward(self, X):\n",
    "        return X+self.PE[0:len(X),].reshape((len(X),1,X.shape[2]))\n",
    "\n",
    "\n",
    "class Transformer(nn.Module):\n",
    "    def __init__(self,src_vocab_size,trg_vocab_size,\n",
    "                 n_encoders=6,n_decoders=6,d_model=512,nhead=8,d_ff=2048,dropout= 0.1):\n",
    "        super(Transformer, self).__init__()\n",
    "        self.src_tok_emb = nn.Embedding(src_vocab_size, d_model)\n",
    "        self.trg_tok_emb = nn.Embedding(trg_vocab_size, d_model)\n",
    "        self.encoder = nn.ModuleList([deepcopy(Encoder(\n",
    "            d_model,nhead,d_ff,dropout\n",
    "        )) for i in range(n_encoders)])\n",
    "        self.decoder = nn.ModuleList([deepcopy(Decoder(\n",
    "            d_model,nhead,d_ff,dropout\n",
    "        )) for i in range(n_decoders)])\n",
    "        self.generator = nn.Linear(d_model, trg_vocab_size)\n",
    "        self.positional_encoding = PositionalEncoding(d_model)\n",
    "\n",
    "    def forward(self,src,trg):\n",
    "        memory = self.src_tok_emb(src)\n",
    "        memory=self.positional_encoding(memory)\n",
    "        output = self.trg_tok_emb(trg)\n",
    "        output=self.positional_encoding(output)\n",
    "        src_pad_mask=(src == PAD_IDX).transpose(0,1)\n",
    "        trg_pad_mask=(trg == PAD_IDX).transpose(0,1)\n",
    "        \n",
    "        \n",
    "        for encoder in self.encoder:\n",
    "            memory=encoder(memory,src_pad_mask)\n",
    "        for decoder in self.decoder:\n",
    "            output = decoder(output,\n",
    "                             memory,\n",
    "                             src_pad_mask,trg_pad_mask)\n",
    "\n",
    "        return self.generator(output)\n",
    "    \n",
    "    def encode(self,src):\n",
    "        memory = self.src_tok_emb(src)\n",
    "        memory=self.positional_encoding(memory)\n",
    "        for encoder in self.encoder:\n",
    "            memory=encoder(memory)\n",
    "        return memory\n",
    "\n",
    "    def decode(self,trg,memory):\n",
    "        output = self.trg_tok_emb(trg)\n",
    "        output=self.positional_encoding(output)\n",
    "        for decoder in self.decoder:\n",
    "            output = decoder(output,\n",
    "                             memory)\n",
    "        return output"
   ]
  },
  {
   "cell_type": "code",
   "execution_count": null,
   "id": "af82fdd2",
   "metadata": {},
   "outputs": [],
   "source": []
  },
  {
   "cell_type": "code",
   "execution_count": 4,
   "id": "81b3a228",
   "metadata": {},
   "outputs": [],
   "source": [
    "#define constants\n",
    "UNK_IDX, PAD_IDX, BOS_IDX, EOS_IDX = 0, 1, 2, 3 #special token indices"
   ]
  },
  {
   "cell_type": "code",
   "execution_count": 5,
   "id": "bb742d79",
   "metadata": {},
   "outputs": [
    {
     "name": "stdout",
     "output_type": "stream",
     "text": [
      "175621\n"
     ]
    }
   ],
   "source": [
    "#downloaded from https://www.kaggle.com/datasets/devicharith/language-translation-englishfrench\n",
    "dat=pd.read_csv(\"eng_-french.csv\") \n",
    "dat_en=dat[\"English words/sentences\"].to_numpy()\n",
    "dat_fr=dat[\"French words/sentences\"].to_numpy()\n",
    "print(len(dat_en))\n",
    "\n",
    "#get tokenizers\n",
    "spacy_en = get_tokenizer('spacy', language='en_core_web_sm')\n",
    "spacy_fr = get_tokenizer('spacy', language='fr_core_news_sm')"
   ]
  },
  {
   "cell_type": "code",
   "execution_count": null,
   "id": "d40de757",
   "metadata": {},
   "outputs": [],
   "source": []
  },
  {
   "cell_type": "code",
   "execution_count": 6,
   "id": "31d5d174",
   "metadata": {},
   "outputs": [],
   "source": [
    "#get vocabularies and text tokenizers\n",
    "def get_vocab_text(dat,tokenizer):\n",
    "    counter = Counter()\n",
    "    for s in dat:\n",
    "        counter.update(list(tokenizer(s)))\n",
    "    vocab = build_vocab_from_iterator([counter], specials=['<unk>', '<pad>', '<bos>', '<eos>'])\n",
    "    vocab.set_default_index(vocab['<unk>'])\n",
    "    def text_tok(text):\n",
    "        str_tokens=tokenizer(text)\n",
    "        int_tokens=vocab(str_tokens)\n",
    "        return torch.cat((torch.tensor([BOS_IDX]),torch.tensor(int_tokens),torch.tensor([EOS_IDX])))\n",
    "    return vocab,text_tok\n",
    "    \n",
    "    "
   ]
  },
  {
   "cell_type": "code",
   "execution_count": 7,
   "id": "bf77354b",
   "metadata": {},
   "outputs": [
    {
     "name": "stdout",
     "output_type": "stream",
     "text": [
      "tensor([   2, 2289,  396,  141,    3])\n"
     ]
    }
   ],
   "source": [
    "vocab_en,text_en=get_vocab_text(dat_en,spacy_en)\n",
    "print(text_en(\"hello world!\"))\n",
    "vocab_fr,text_fr=get_vocab_text(dat_fr,spacy_fr)\n"
   ]
  },
  {
   "cell_type": "code",
   "execution_count": null,
   "id": "3a2e277f",
   "metadata": {},
   "outputs": [],
   "source": []
  },
  {
   "cell_type": "code",
   "execution_count": 8,
   "id": "3d41a8cc",
   "metadata": {},
   "outputs": [],
   "source": [
    "class CustomDataset(Dataset):\n",
    "    def __init__(self, src, trg):\n",
    "        super().__init__()\n",
    "        self.src = src\n",
    "        self.trg = trg\n",
    "\n",
    "    def __len__(self):\n",
    "        return len(self.src)\n",
    "\n",
    "    def __getitem__(self, idx):\n",
    "        return self.src[idx], self.trg[idx]\n",
    "\n",
    "def get_dataloader(dat_src,dat_trg,text_tok_src,text_tok_trg,train_split=0.8):\n",
    "    dat_st=CustomDataset(dat_src,dat_trg)\n",
    "    train_data, val_data = random_split(dat_st, [train_split, 1-train_split])\n",
    "    def collate_fn(batch):\n",
    "        src_batch, trg_batch = [], []\n",
    "        for src,trg in batch:\n",
    "            src_batch.append(text_tok_src(src))\n",
    "            trg_batch.append(text_tok_trg(trg))\n",
    "        return pad_sequence(src_batch, padding_value=PAD_IDX), pad_sequence(trg_batch, padding_value=PAD_IDX)\n",
    "\n",
    "    train_dataloader = DataLoader(train_data, batch_size=16, collate_fn=collate_fn)\n",
    "    val_dataloader = DataLoader(val_data, batch_size=16, collate_fn=collate_fn)\n",
    "    return train_dataloader, val_dataloader"
   ]
  },
  {
   "cell_type": "code",
   "execution_count": 9,
   "id": "d727fef0",
   "metadata": {},
   "outputs": [],
   "source": [
    "train_dataloader, val_dataloader = get_dataloader(dat_en,dat_fr,text_en,text_fr)"
   ]
  },
  {
   "cell_type": "code",
   "execution_count": 10,
   "id": "711b5f9b",
   "metadata": {},
   "outputs": [],
   "source": [
    "def train(transformer, train_dataloader, val_dataloader, criterion, optimizer, plt_title=\"\", epochs=5):\n",
    "    start=timer()\n",
    "    train_loss=np.zeros(epochs)\n",
    "    val_loss=np.zeros(epochs)\n",
    "    for epoch in range(epochs):\n",
    "        #print(f\"epoch {epoch}\")\n",
    "        transformer.train()\n",
    "\n",
    "        for src, trg in train_dataloader:\n",
    "            src = src.to(DEVICE)\n",
    "            trg = trg.to(DEVICE)\n",
    "            out = transformer(src, trg[:-1, :])\n",
    "            out = out.reshape(out.shape[0]*out.shape[1],out.shape[2])\n",
    "            loss = criterion(out, trg[1:, :].flatten())\n",
    "            optimizer.zero_grad()\n",
    "            loss.backward()\n",
    "            train_loss[epoch] += loss.item()\n",
    "            optimizer.step()\n",
    "        #print(f\"training loss: {train_loss/len(list(train_dataloader))}\")\n",
    "        #print(f\"time: {timer()-start}\")\n",
    "\n",
    "        transformer.eval()\n",
    "\n",
    "        for src, trg in val_dataloader:\n",
    "            src = src.to(DEVICE)\n",
    "            trg = trg.to(DEVICE)\n",
    "            out = transformer(src, trg[:-1, :])\n",
    "            out = out.reshape(out.shape[0]*out.shape[1],out.shape[2])\n",
    "            loss = criterion(out, trg[1:, :].flatten())\n",
    "            val_loss[epoch] += loss.item()\n",
    "\n",
    "        #print(f\"validation loss: {val_loss/len(list(val_dataloader))}\")\n",
    "        print(f\"time: {timer()-start}\")\n",
    "    \n",
    "    train_loss/=len(list(train_dataloader))\n",
    "    val_loss/=len(list(val_dataloader))\n",
    "    print(train_loss)\n",
    "    print(val_loss)\n",
    "    #'''\n",
    "    plt.plot(range(epochs),train_loss,label=\"training\")\n",
    "    plt.plot(range(epochs),val_loss,label=\"validation\")\n",
    "    plt.title(plt_title)\n",
    "    plt.legend()\n",
    "    plt.ylabel(\"loss\")\n",
    "    plt.xlabel(\"epoch\")\n",
    "    plt.ylim([0,0.1+np.max([train_loss,val_loss])])\n",
    "    plt.show()\n",
    "    plt.clf()\n",
    "    #'''"
   ]
  },
  {
   "cell_type": "code",
   "execution_count": null,
   "id": "75bc6296",
   "metadata": {},
   "outputs": [],
   "source": [
    "'''\n",
    "transformer = Transformer(len(vocab_en), len(vocab_fr),1,1, 512, 8,  2048, 0.1).to(DEVICE)\n",
    "criterion = torch.nn.CrossEntropyLoss(ignore_index=PAD_IDX)\n",
    "optimizer = torch.optim.Adam(transformer.parameters())\n",
    "train(transformer, train_dataloader,val_dataloader,\n",
    "      criterion, optimizer, \"a\")\n",
    "'''"
   ]
  },
  {
   "cell_type": "code",
   "execution_count": 11,
   "id": "ff036478",
   "metadata": {},
   "outputs": [],
   "source": [
    "def translate(model, src):\n",
    "    src=text_en(src)\n",
    "    src=src.reshape(len(src),1).to(DEVICE)\n",
    "    trg=[BOS_IDX]\n",
    "    memory = model.encode(src)\n",
    "    for i in range(len(src)+10):\n",
    "        out=model.decode(torch.tensor(trg).reshape(len(trg),1).to(DEVICE), memory)\n",
    "        prob=model.generator(out[i])\n",
    "        next_word=torch.argmax(prob)\n",
    "        trg+=[next_word]\n",
    "        if next_word==EOS_IDX:\n",
    "            break\n",
    "    trg=vocab_fr.lookup_tokens(trg)\n",
    "    return trg[1:(len(trg)-1)]\n",
    "\n",
    "def evaluate(model, test_src, test_trg, samp_size, max_n, verbose=False):\n",
    "    samp_size = np.min((samp_size,len(test_src)))\n",
    "    score=np.empty(samp_size)\n",
    "    samp=np.random.choice(len(test_src), samp_size, replace=False)\n",
    "    for i in range(samp_size):\n",
    "        idx=samp[i]\n",
    "        pred=translate(model,test_src[idx])\n",
    "        if (verbose):\n",
    "            print(test_trg[idx])\n",
    "            print(\" \".join(pred))\n",
    "        score[i]=bleu_score([pred], [[spacy_fr(test_trg[idx])]],max_n=max_n,weights=np.full(max_n,1/max_n))\n",
    "    return np.mean(score),np.std(score)\n"
   ]
  },
  {
   "cell_type": "code",
   "execution_count": 12,
   "id": "b2202d67",
   "metadata": {},
   "outputs": [],
   "source": [
    "#downloaded from https://huggingface.co/datasets/Nicolas-BZRD/Parallel_Global_Voices_English_French\n",
    "dat1=pd.read_parquet(\"eng_-french2.parquet\")"
   ]
  },
  {
   "cell_type": "code",
   "execution_count": 13,
   "id": "e216cc07",
   "metadata": {},
   "outputs": [],
   "source": [
    "dat1_en=dat1[\"en\"].to_numpy()\n",
    "dat1_fr=dat1[\"fr\"].to_numpy()"
   ]
  },
  {
   "cell_type": "code",
   "execution_count": 24,
   "id": "cf5736c4",
   "metadata": {},
   "outputs": [],
   "source": [
    "def tune_layers(n_encoders,n_decoders,transformer=None):\n",
    "    if transformer is None:\n",
    "        transformer = Transformer(len(vocab_en), len(vocab_fr),n_encoders,n_decoders, 512, 8,  2048, 0.1).to(DEVICE)\n",
    "    criterion = torch.nn.CrossEntropyLoss(ignore_index=PAD_IDX)\n",
    "    optimizer = torch.optim.Adam(transformer.parameters())\n",
    "    train(transformer, train_dataloader,val_dataloader,\n",
    "          criterion, optimizer, \"{} encoders, {} decoders\".format(n_encoders,n_decoders))\n",
    "    print(evaluate(transformer, dat_en, dat_fr, 1000, 4))\n",
    "    print(evaluate(transformer, dat1_en, dat1_fr, 1000, 4))\n",
    "    return transformer"
   ]
  },
  {
   "cell_type": "code",
   "execution_count": 15,
   "id": "3a0d937b",
   "metadata": {},
   "outputs": [
    {
     "name": "stdout",
     "output_type": "stream",
     "text": [
      "time: 336.7279334999912\n",
      "time: 666.9089135999966\n",
      "time: 1073.9681806000008\n",
      "time: 1414.7287336000009\n",
      "time: 1775.6782858000079\n",
      "[2.98290727 2.12803518 1.77394292 1.56903581 1.42083954]\n",
      "[2.39134783 2.06185089 1.89930416 1.8331379  1.80583645]\n"
     ]
    },
    {
     "data": {
      "image/png": "[encoded data removed]",
      "text/plain": [
       "<Figure size 640x480 with 1 Axes>"
      ]
     },
     "metadata": {},
     "output_type": "display_data"
    },
    {
     "name": "stdout",
     "output_type": "stream",
     "text": [
      "(0.20196883571873867, 0.3156400714584132)\n",
      "(0.0062364487089010745, 0.049478402743518876)\n"
     ]
    },
    {
     "data": {
      "text/plain": [
       "<Figure size 640x480 with 0 Axes>"
      ]
     },
     "metadata": {},
     "output_type": "display_data"
    }
   ],
   "source": [
    "transformer=tune_layers(1,1)"
   ]
  },
  {
   "cell_type": "code",
   "execution_count": 18,
   "id": "30fc4f02",
   "metadata": {},
   "outputs": [],
   "source": [
    "with open('model.pkl', 'wb') as out:\n",
    "    pickle.dump(transformer, out)"
   ]
  },
  {
   "cell_type": "code",
   "execution_count": 19,
   "id": "57f5e2e5",
   "metadata": {},
   "outputs": [],
   "source": [
    "del transformer"
   ]
  },
  {
   "cell_type": "code",
   "execution_count": 20,
   "id": "f9cfce7e",
   "metadata": {},
   "outputs": [
    {
     "ename": "NameError",
     "evalue": "name 'transformer' is not defined",
     "output_type": "error",
     "traceback": [
      "\u001b[1;31m---------------------------------------------------------------------------\u001b[0m",
      "\u001b[1;31mNameError\u001b[0m                                 Traceback (most recent call last)",
      "Cell \u001b[1;32mIn[20], line 1\u001b[0m\n\u001b[1;32m----> 1\u001b[0m transformer\n",
      "\u001b[1;31mNameError\u001b[0m: name 'transformer' is not defined"
     ]
    }
   ],
   "source": [
    "transformer"
   ]
  },
  {
   "cell_type": "code",
   "execution_count": 21,
   "id": "1313b624",
   "metadata": {},
   "outputs": [],
   "source": [
    "with open('model.pkl', 'rb') as inp:\n",
    "    transformer=pickle.load(inp)"
   ]
  },
  {
   "cell_type": "code",
   "execution_count": 23,
   "id": "77536a7e",
   "metadata": {},
   "outputs": [
    {
     "data": {
      "text/plain": [
       "['Je', 'suis', '.']"
      ]
     },
     "execution_count": 23,
     "metadata": {},
     "output_type": "execute_result"
    }
   ],
   "source": [
    "translate(transformer,\"I am\")"
   ]
  },
  {
   "cell_type": "code",
   "execution_count": 25,
   "id": "5aa18c25",
   "metadata": {},
   "outputs": [
    {
     "name": "stdout",
     "output_type": "stream",
     "text": [
      "time: 323.11736740003107\n",
      "time: 1121.2171186999767\n",
      "time: 2731.2675860999734\n",
      "time: 3976.3258741999744\n",
      "time: 4329.2215072999825\n",
      "[1.56572536 1.3343513  1.21223049 1.11675082 1.0547419 ]\n",
      "[1.76550094 1.75085096 1.74620701 1.74130981 1.73835552]\n"
     ]
    },
    {
     "data": {
      "image/png": "[encoded data removed]",
      "text/plain": [
       "<Figure size 640x480 with 1 Axes>"
      ]
     },
     "metadata": {},
     "output_type": "display_data"
    },
    {
     "name": "stdout",
     "output_type": "stream",
     "text": [
      "(0.29364151818324913, 0.37360890199647045)\n",
      "(0.007282798460119999, 0.04995588371400124)\n"
     ]
    },
    {
     "data": {
      "text/plain": [
       "<Figure size 640x480 with 0 Axes>"
      ]
     },
     "metadata": {},
     "output_type": "display_data"
    }
   ],
   "source": [
    "transformer=tune_layers(1,1,transformer)"
   ]
  },
  {
   "cell_type": "code",
   "execution_count": null,
   "id": "8bdcb905",
   "metadata": {},
   "outputs": [],
   "source": [
    "#tune_layers(2,2)"
   ]
  },
  {
   "cell_type": "code",
   "execution_count": null,
   "id": "31d85169",
   "metadata": {},
   "outputs": [],
   "source": [
    "#tune_layers(3,3)"
   ]
  },
  {
   "cell_type": "code",
   "execution_count": null,
   "id": "73d84121",
   "metadata": {},
   "outputs": [],
   "source": [
    "from googletrans import Translator"
   ]
  },
  {
   "cell_type": "code",
   "execution_count": null,
   "id": "07ce7faa",
   "metadata": {},
   "outputs": [],
   "source": [
    "def evaluate(model, test_src, test_trg, samp_size, max_n, verbose=False):\n",
    "    samp_size = np.min((samp_size,len(test_src)))\n",
    "    score=np.empty(samp_size)\n",
    "    samp=np.random.choice(len(test_src), samp_size, replace=False)\n",
    "    for i in range(samp_size):\n",
    "        idx=samp[i]\n",
    "        pred=translate(model,test_src[idx])\n",
    "        if (verbose):\n",
    "            print(test_trg[idx])\n",
    "            print(\" \".join(pred))\n",
    "        score[i]=bleu_score([pred], [spacy_fr(test_trg[idx])],max_n=max_n,weights=np.full(max_n,1/max_n))\n",
    "    return np.mean(score),np.std(score)\n"
   ]
  },
  {
   "cell_type": "code",
   "execution_count": null,
   "id": "4c8ecf84",
   "metadata": {},
   "outputs": [],
   "source": [
    "def evaluate_baseline(pred, test_trg, max_n, verbose=False):\n",
    "    samp_size = len(pred)\n",
    "    for i in range(samp_size):\n",
    "        score[i]=bleu_score([pred[i]], [spacy_fr(test_trg[i])],max_n=max_n,weights=np.full(max_n,1/max_n))\n",
    "    return np.mean(score),np.std(score)\n"
   ]
  },
  {
   "cell_type": "code",
   "execution_count": null,
   "id": "73319077",
   "metadata": {},
   "outputs": [],
   "source": []
  },
  {
   "cell_type": "code",
   "execution_count": null,
   "id": "95f7f978",
   "metadata": {},
   "outputs": [],
   "source": [
    "DEVICE=\"cuda\"\n",
    "torch.manual_seed(1)\n",
    "np.random.seed(1)"
   ]
  },
  {
   "cell_type": "code",
   "execution_count": null,
   "id": "c565dc39",
   "metadata": {},
   "outputs": [],
   "source": [
    "transformer = Transformer(len(vocab_en), len(vocab_fr),1,1, 512, 8,  2048, 0.1).to(DEVICE)\n",
    "criterion = torch.nn.CrossEntropyLoss(ignore_index=PAD_IDX)\n",
    "optimizer = torch.optim.Adam(transformer.parameters())\n",
    "train(transformer, criterion, optimizer, \"1 encoders, 1 decoders\")\n",
    "print(evaluate(transformer, dat_en, dat_fr, 1000, 1))\n",
    "print(evaluate(transformer, dat_en, dat_fr, 1000, 2))\n",
    "print(evaluate(transformer, dat1_en, dat1_fr, 1000, 1))\n",
    "print(evaluate(transformer, dat1_en, dat1_fr, 1000, 2))\n",
    "tf0=transformer"
   ]
  },
  {
   "cell_type": "code",
   "execution_count": null,
   "id": "b67c3999",
   "metadata": {},
   "outputs": [],
   "source": [
    "transformer = Transformer(len(vocab_en), len(vocab_fr),1,1, 512, 8,  2048, 0.1, void_mha=True).to(DEVICE)\n",
    "criterion = torch.nn.CrossEntropyLoss(ignore_index=PAD_IDX)\n",
    "optimizer = torch.optim.Adam(transformer.parameters())\n",
    "train(transformer, criterion, optimizer, \"No multi-head attention\")\n",
    "print(evaluate(transformer, dat_en, dat_fr, 1000, 1))\n",
    "print(evaluate(transformer, dat_en, dat_fr, 1000, 2))\n",
    "print(evaluate(transformer, dat1_en, dat1_fr, 1000, 1))\n",
    "print(evaluate(transformer, dat1_en, dat1_fr, 1000, 2))\n",
    "tf1=transformer"
   ]
  },
  {
   "cell_type": "code",
   "execution_count": null,
   "id": "28ac24b1",
   "metadata": {},
   "outputs": [],
   "source": [
    "transformer = Transformer(len(vocab_en), len(vocab_fr),1,1, 512, 8,  2048, 0.1, void_mask=True).to(DEVICE)\n",
    "criterion = torch.nn.CrossEntropyLoss(ignore_index=PAD_IDX)\n",
    "optimizer = torch.optim.Adam(transformer.parameters())\n",
    "train(transformer, criterion, optimizer, \"No masks\")\n",
    "print(evaluate(transformer, dat_en, dat_fr, 1000, 1))\n",
    "print(evaluate(transformer, dat_en, dat_fr, 1000, 2))\n",
    "print(evaluate(transformer, dat1_en, dat1_fr, 1000, 1))\n",
    "print(evaluate(transformer, dat1_en, dat1_fr, 1000, 2))\n",
    "tf2=transformer"
   ]
  },
  {
   "cell_type": "code",
   "execution_count": null,
   "id": "788ecad2",
   "metadata": {},
   "outputs": [],
   "source": [
    "transformer = Transformer(len(vocab_en), len(vocab_fr),1,1, 512, 8,  2048, 0.1, void_pe=True).to(DEVICE)\n",
    "criterion = torch.nn.CrossEntropyLoss(ignore_index=PAD_IDX)\n",
    "optimizer = torch.optim.Adam(transformer.parameters())\n",
    "train(transformer, criterion, optimizer, \"No positional encoding\")\n",
    "print(evaluate(transformer, dat_en, dat_fr, 1000, 1))\n",
    "print(evaluate(transformer, dat_en, dat_fr, 1000, 2))\n",
    "print(evaluate(transformer, dat1_en, dat1_fr, 1000, 1))\n",
    "print(evaluate(transformer, dat1_en, dat1_fr, 1000, 2))\n",
    "tf3=transformer"
   ]
  },
  {
   "cell_type": "code",
   "execution_count": null,
   "id": "a93ebeb2",
   "metadata": {},
   "outputs": [],
   "source": [
    "transformer = Transformer(len(vocab_en), len(vocab_fr),1,1, 512, 8,  2048, 0.1, void_ff=True).to(DEVICE)\n",
    "criterion = torch.nn.CrossEntropyLoss(ignore_index=PAD_IDX)\n",
    "optimizer = torch.optim.Adam(transformer.parameters())\n",
    "train(transformer, criterion, optimizer, \"No feed-forward layers\")\n",
    "print(evaluate(transformer, dat_en, dat_fr, 1000, 1))\n",
    "print(evaluate(transformer, dat_en, dat_fr, 1000, 2))\n",
    "print(evaluate(transformer, dat1_en, dat1_fr, 1000, 1))\n",
    "print(evaluate(transformer, dat1_en, dat1_fr, 1000, 2))\n",
    "tf4=transformer"
   ]
  },
  {
   "cell_type": "code",
   "execution_count": null,
   "id": "458e3f6a",
   "metadata": {},
   "outputs": [],
   "source": [
    "transformer = Transformer(len(vocab_en), len(vocab_fr),1,1, 512, 8,  2048, 0.1, void_ann=True).to(DEVICE)\n",
    "criterion = torch.nn.CrossEntropyLoss(ignore_index=PAD_IDX)\n",
    "optimizer = torch.optim.Adam(transformer.parameters())\n",
    "train(transformer, criterion, optimizer, \"No residual connection+layer normalization\")\n",
    "print(evaluate(transformer, dat_en, dat_fr, 1000, 1))\n",
    "print(evaluate(transformer, dat_en, dat_fr, 1000, 2))\n",
    "print(evaluate(transformer, dat1_en, dat1_fr, 1000, 1))\n",
    "print(evaluate(transformer, dat1_en, dat1_fr, 1000, 2))\n",
    "tf5=transformer"
   ]
  },
  {
   "cell_type": "code",
   "execution_count": null,
   "id": "b14a2b06",
   "metadata": {},
   "outputs": [],
   "source": [
    "dat3_en=[\"A transformer is a deep learning architecture developed by Google and based on the multi-head attention mechanism, proposed in a 2017 paper \\\"Attention Is All You Need\\\".\",\n",
    "\n",
    "\"Text is converted to numerical representations called tokens, and each token is converted into a vector via looking up from a word embedding table.\",\n",
    "\n",
    "\"At each layer, each token is then contextualized within the scope of the context window with other (unmasked) tokens via a parallel multi-head attention mechanism allowing the signal for key tokens to be amplified and less important tokens to be diminished.\",\n",
    "\n",
    "\"The transformer paper, published in 2017, is based on the softmax-based attention mechanism proposed by Bahdanau et. al. in 2014 for machine translation, and the Fast Weight Controller, similar to a transformer, proposed in 1992.\",\n",
    "\n",
    "\"Transformers have the advantage of having no recurrent units, and thus requires less training time than previous recurrent neural architectures, such as long short-term memory (LSTM), and its later variation has been prevalently adopted for training large language models (LLM) on large (language) datasets, such as the Wikipedia corpus and Common Crawl.\",\n",
    "\n",
    "\"This architecture is now used not only in natural language processing and computer vision, but also in audio and multi-modal processing.\",\n",
    "\n",
    "\"It has also led to the development of pre-trained systems, such as generative pre-trained transformers (GPTs) and BERT (Bidirectional Encoder Representations from Transformers).\"]\n",
    "\n",
    "dat3_fr=[\"Un transformateur est une architecture d’apprentissage profond développée par Google et basée sur le mécanisme d’attention multi-têtes, proposé dans un article de 2017 \\\"Attention est tout ce dont vous avez besoin\\\".\",\n",
    "\n",
    "\"Le texte est converti en représentations numériques appelées jetons, et chaque jeton est converti en vecteur en remontant vers le haut à partir d’une table d’intégration de mots.\",\n",
    "\n",
    "\"À chaque couche, chaque jeton est ensuite contextualisé dans le cadre de la fenêtre contextuelle avec d’autres jetons (non masqués) via un mécanisme d’attention multi-têtes parallèle permettant d’amplifier le signal pour les jetons clés et de diminuer les jetons moins importants.\",\n",
    "\n",
    "\"L’article sur le transformateur, publié en 2017, est basé sur le mécanisme d’attention basé sur softmax proposé par Bahdanau et al. en 2014 pour la traduction automatique, et le contrôleur de poids rapide, similaire à un transformateur, proposé en 1992.\",\n",
    "\n",
    "\"Les transformateurs ont l’avantage de ne pas avoir d’unités récurrentes, et nécessitent donc moins de temps d’entraînement que les architectures neuronales récurrentes précédentes, telles que la mémoire à long terme et à court terme (LSTM), et sa variante ultérieure a été largement adoptée pour l’entraînement de grands modèles de langage (LLM) sur de grands ensembles de données (de langage), tels que le corpus Wikipédia et le Common Crawl.\",\n",
    "\n",
    "\"Cette architecture est aujourd’hui utilisée non seulement dans le traitement du langage naturel et la vision par ordinateur, mais aussi dans l’audio et le traitement multimodal.\",\n",
    "\n",
    "\"Cela a également conduit au développement de systèmes pré-entraînés, tels que les transformateurs génératifs pré-entraînés (GPT) et BERT (Représentations bidirectionnelles d'encodeurs à partir de transformateurs).\"]"
   ]
  },
  {
   "cell_type": "code",
   "execution_count": null,
   "id": "eb98337e",
   "metadata": {},
   "outputs": [],
   "source": [
    "for transformer in [tf0,tf1,tf2,tf3,tf4,tf5]:\n",
    "    print(\"*\")\n",
    "    print(evaluate(transformer, dat_en, dat_fr, 1000, 3))\n",
    "    print(evaluate(transformer, dat_en, dat_fr, 1000, 4))"
   ]
  },
  {
   "cell_type": "code",
   "execution_count": null,
   "id": "34f9470f",
   "metadata": {},
   "outputs": [],
   "source": [
    "for transformer in [tf0,tf1,tf2,tf3,tf4,tf5]:\n",
    "    print(\"*\")\n",
    "    #print(evaluate(transformer, dat3_en, dat3_fr, 1000, 1))\n",
    "    #print(evaluate(transformer, dat3_en, dat3_fr, 1000, 2))\n",
    "    print(\" \".join(translate(transformer, \"Meet me at the hotel bar.\")))\n",
    "    print(\" \".join(translate(transformer, \"Money won't be a problem.\")))\n",
    "    print(\" \".join(translate(transformer, \"We met in a coffee shop near the campus.\")))\n",
    "    print(\" \".join(translate(transformer, \"Hey, what do you think you're doing?\")))\n",
    "    print(\" \".join(translate(transformer, \"They offered no explanation.\")))\n"
   ]
  },
  {
   "cell_type": "code",
   "execution_count": null,
   "id": "2e2aa8db",
   "metadata": {},
   "outputs": [],
   "source": [
    "dat2_en=[\"I am.\",\"You are.\",\"He is.\",\"She is.\",\"We are.\",\"They are.\"]\n",
    "dat2_fr=[\"Je suis.\",\"Tu est.\",\"Il est.\",\"Elle est.\",\"Nous sommes.\",\"Ils sont.\"]\n",
    "for transformer in [tf0,tf1,tf2,tf3,tf4,tf5]:\n",
    "    print(\"*\")\n",
    "    print(evaluate(transformer, dat2_en, dat2_fr, 1000, 1, True))\n"
   ]
  },
  {
   "cell_type": "code",
   "execution_count": null,
   "id": "7ec24617",
   "metadata": {},
   "outputs": [],
   "source": [
    "torch.manual_seed(2)\n",
    "np.random.seed(2)\n",
    "transformer32 = Transformer(len(vocab_en), len(vocab_fr),3,2, 512, 8,  2048, 0.1).to(DEVICE)\n",
    "criterion = torch.nn.CrossEntropyLoss(ignore_index=PAD_IDX)\n",
    "optimizer = torch.optim.Adam(transformer32.parameters())\n",
    "train(transformer32, criterion, optimizer, \"3 encoders, 2 decoders\")\n",
    "\n",
    "transformer11 = Transformer(len(vocab_en), len(vocab_fr),1,1, 512, 8,  2048, 0.1).to(DEVICE)\n",
    "criterion = torch.nn.CrossEntropyLoss(ignore_index=PAD_IDX)\n",
    "optimizer = torch.optim.Adam(transformer11.parameters())\n",
    "train(transformer11, criterion, optimizer, \"1 encoders, 1 decoders\")"
   ]
  },
  {
   "cell_type": "code",
   "execution_count": null,
   "id": "19c0239f",
   "metadata": {},
   "outputs": [],
   "source": [
    "samp=np.random.choice(len(dat_en), 5)\n",
    "samp1=np.random.choice(len(dat1_en), 5)\n",
    "dat2_en=[\"I am.\",\"You are.\",\"He is.\",\"She is.\",\"We are.\",\"They are.\"]\n",
    "dat2_fr=[\"Je suis.\",\"Tu est.\",\"Il est.\",\"Elle est.\",\"Nous sommes.\",\"Ils sont.\"]\n",
    "for i in samp:\n",
    "    print(dat_en[i])\n",
    "for i in samp1:\n",
    "    print(dat1_en[i])\n",
    "for i in dat2_en:\n",
    "    print(i)\n",
    "for i in samp:\n",
    "    print(dat_fr[i])\n",
    "for i in samp1:\n",
    "    print(dat1_fr[i])\n",
    "for i in dat2_fr:\n",
    "    print(i)"
   ]
  },
  {
   "cell_type": "code",
   "execution_count": null,
   "id": "92fa5629",
   "metadata": {},
   "outputs": [],
   "source": [
    "dat2_en=[\"I am.\",\"You are.\",\"He is.\",\"She is.\",\"We are.\",\"They are.\"]\n",
    "dat2_fr=[\"Je suis.\",\"Tu est.\",\"Il est.\",\"Elle est.\",\"Nous sommes.\",\"Ils sont.\"]\n",
    "for i in samp:\n",
    "    print(dat_en[i])\n",
    "for i in samp1:\n",
    "    print(dat1_en[i])\n",
    "for i in dat2_en:\n",
    "    print(i)\n",
    "for i in samp:\n",
    "    print(dat_fr[i])\n",
    "for i in samp1:\n",
    "    print(dat1_fr[i])\n",
    "for i in dat2_fr:\n",
    "    print(i)"
   ]
  },
  {
   "cell_type": "code",
   "execution_count": null,
   "id": "9da2e842",
   "metadata": {
    "scrolled": true
   },
   "outputs": [],
   "source": [
    "for i in samp:\n",
    "    print(\" \".join(translate(transformer32,dat_en[i])))\n",
    "for i in samp1:\n",
    "    print(\" \".join(translate(transformer32,dat1_en[i])))\n",
    "for i in range(6):\n",
    "    print(\" \".join(translate(transformer32,dat2_en[i])))\n",
    "# According to Google Translate, the output translates to:\n",
    "'''\n",
    "I am really happy .\n",
    "I am really happy .\n",
    "It's a good story .\n",
    "I am really happy .\n",
    "It was a little hot.\n",
    "It was a little hot.\n",
    "I am really happy .\n",
    "I am really happy .\n",
    "It was a little hot.\n",
    "I am really happy .\n",
    "It's a good story .\n",
    "It's a good .\n",
    "It's a good .\n",
    "It's a good .\n",
    "It's a good .\n",
    "It's a good .\n",
    "'''"
   ]
  },
  {
   "cell_type": "code",
   "execution_count": null,
   "id": "29da93a2",
   "metadata": {},
   "outputs": [],
   "source": [
    "score=0\n",
    "for i in samp:\n",
    "    s=(bleu_score([translate(transformer32,dat_en[i])], [spacy_fr(dat_fr[i])],max_n=1,weights=np.full(1,1)))\n",
    "    print(s)\n",
    "    score+=s\n",
    "\n",
    "for i in samp1:\n",
    "    s=(bleu_score([translate(transformer32,dat1_en[i])], [spacy_fr(dat1_fr[i])],max_n=1,weights=np.full(1,1)))\n",
    "    print(s)\n",
    "    score+=s\n",
    "\n",
    "for i in range(6):\n",
    "    s=(bleu_score([translate(transformer32,dat2_en[i])], [spacy_fr(dat2_fr[i])],max_n=1,weights=np.full(1,1)))\n",
    "    print(s)\n",
    "    score+=s\n",
    "print(score/16)\n",
    "\n",
    "score=0\n",
    "for i in samp:\n",
    "    s=(bleu_score([translate(transformer32,dat_en[i])], [spacy_fr(dat_fr[i])],max_n=2,weights=np.full(2,1/2)))\n",
    "    score+=s\n",
    "\n",
    "for i in samp1:\n",
    "    s=(bleu_score([translate(transformer32,dat1_en[i])], [spacy_fr(dat1_fr[i])],max_n=2,weights=np.full(2,1/2)))\n",
    "    score+=s\n",
    "\n",
    "for i in range(6):\n",
    "    s=(bleu_score([translate(transformer32,dat2_en[i])], [spacy_fr(dat2_fr[i])],max_n=2,weights=np.full(2,1/2)))\n",
    "    score+=s\n",
    "print(score/16)"
   ]
  },
  {
   "cell_type": "code",
   "execution_count": null,
   "id": "f4ee5c49",
   "metadata": {},
   "outputs": [],
   "source": [
    "for i in samp:\n",
    "    print(\" \".join(translate(transformer11,dat_en[i])))\n",
    "for i in samp1:\n",
    "    print(\" \".join(translate(transformer11,dat1_en[i])))\n",
    "for i in range(6):\n",
    "    print(\" \".join(translate(transformer11,dat2_en[i])))\n",
    "# According to Google Translate, the output translates to:\n",
    "'''\n",
    "I can't force you to do this.\n",
    "You think you're old, don't you?\n",
    "How would you say such a thing?\n",
    "I understand it, but I don't agree with it.\n",
    "He's a good singer for a win.\n",
    "The general calmed down because of my teeth.\n",
    "He has news for the Tom is Crazy doc.\n",
    "Without water, girls have girls at four o'clock.\n",
    "Even the adults and let's see the French, it was last.\n",
    "But later, Tom, the hours, the exams, I'm done.\n",
    "I'm fussy.\n",
    "You are devoid of that.\n",
    "He's addicted.\n",
    "She is caring.\n",
    "We are drunk.\n",
    "They are expensive.\n",
    "'''"
   ]
  },
  {
   "cell_type": "code",
   "execution_count": null,
   "id": "3f20297e",
   "metadata": {},
   "outputs": [],
   "source": [
    "score=0\n",
    "for i in samp:\n",
    "    s=(bleu_score([translate(transformer11,dat_en[i])], [spacy_fr(dat_fr[i])],max_n=1,weights=np.full(1,1)))\n",
    "    print(s)\n",
    "    score+=s\n",
    "\n",
    "for i in samp1:\n",
    "    s=(bleu_score([translate(transformer11,dat1_en[i])], [spacy_fr(dat1_fr[i])],max_n=1,weights=np.full(1,1)))\n",
    "    print(s)\n",
    "    score+=s\n",
    "\n",
    "for i in range(6):\n",
    "    s=(bleu_score([translate(transformer11,dat2_en[i])], [spacy_fr(dat2_fr[i])],max_n=1,weights=np.full(1,1)))\n",
    "    print(s)\n",
    "    score+=s\n",
    "print(score/16)\n",
    "\n",
    "score=0\n",
    "for i in samp:\n",
    "    s=(bleu_score([translate(transformer11,dat_en[i])], [spacy_fr(dat_fr[i])],max_n=2,weights=np.full(2,1/2)))\n",
    "    score+=s\n",
    "\n",
    "for i in samp1:\n",
    "    s=(bleu_score([translate(transformer11,dat1_en[i])], [spacy_fr(dat1_fr[i])],max_n=2,weights=np.full(2,1/2)))\n",
    "    score+=s\n",
    "\n",
    "for i in range(6):\n",
    "    s=(bleu_score([translate(transformer11,dat2_en[i])], [spacy_fr(dat2_fr[i])],max_n=2,weights=np.full(2,1/2)))\n",
    "    score+=s\n",
    "print(score/16)"
   ]
  },
  {
   "cell_type": "code",
   "execution_count": null,
   "id": "2fef6ff5",
   "metadata": {},
   "outputs": [],
   "source": [
    "gt_en=[\"Je ne peux pas vous permettre de faire cela.\",\n",
    "\"Tu me trouves moche, n'est-ce pas?\",\n",
    "\"Comment oses-tu dire une chose pareille?\",\n",
    "\"Je le comprends mais je ne suis tout de même pas d'accord.\",\n",
    "\"C'est une excellente journée pour une randonnée.\",\n",
    "\"Le modérateur était David Ignatius du Washington Post.\",\n",
    "\"Il appartient à la tribu Mehsud, dans la région politiquement instable du Sud-Waziristan et dirige dans les 20 000 miliciens pro-talibans.\",\n",
    "\"A cause du manque d'eau, les filles doivent marcher longtemps tout en transportant de lourds bidons d'eau.\",\n",
    "\"Même le Ghana et le Laos nous ont surpassés l'an dernier.\",\n",
    "\"Mais à partir du mardi 14 avril 2009, Neptune va progressivement se retirer de Lakhana Duang Muang pour se rapprocher de la droite du soleil.  Cela signifie que le mauvais présage ou les difficultés concernant Bangkok vont s'estomper.\",\n",
    "\"Je suis.\",\n",
    "\"Tu est.\",\n",
    "\"Il est.\",\n",
    "\"Elle est.\",\n",
    "\"Nous sommes.\",\n",
    "\"Ils sont.\"]\n",
    "gt_fr=[\"Je ne peux pas te permettre de faire ça.\",\n",
    "\"Tu penses que je suis moche, n'est-ce pas?\",\n",
    "\"Comment oses-tu dire une chose pareille!\",\n",
    "\"Je le comprends, mais je ne suis toujours pas d'accord avec cela.\",\n",
    "\"C'est une excellente journée pour une randonnée.\",\n",
    "\"Le modérateur était David Ignatius du Washington Post.\",\n",
    "\"Il appartient à la tribu Mehsud de la région troublée du Sud-Waziristan au Pakistan et commande environ 20 000 militants pro-talibans.\",\n",
    "\"Sans eau, les filles doivent souvent parcourir de longues distances en transportant de l’eau lourde.\",\n",
    "\"Même le Ghana et le Laos nous ont dépassés l’année dernière.\",\n",
    "\"Mais à partir du mardi 14 avril 2009, Neptune quittera progressivement Lakhana Duang Muang vers la droite du Soleil. Cela signifie que les mauvais présages ou les mauvais incidents contre Bangkok seront subventionnés.\",\n",
    "\"Je suis.\",\n",
    "\"You are.\",\n",
    "\"Il est.\",\n",
    "\"Elle est.\",\n",
    "\"Nous sommes.\",\n",
    "\"Ils ont.\"]"
   ]
  },
  {
   "cell_type": "code",
   "execution_count": null,
   "id": "c74a0a61",
   "metadata": {},
   "outputs": [],
   "source": [
    "score=0\n",
    "for i in range(16):\n",
    "    s=(bleu_score([spacy_fr(gt_en[i])],[[spacy_fr(gt_fr[i])]],max_n=2,weights=[1/2,1/2]))\n",
    "\n",
    "    print(s)\n",
    "    score+=s\n",
    "print(score/16)"
   ]
  },
  {
   "cell_type": "code",
   "execution_count": null,
   "id": "9decea70",
   "metadata": {},
   "outputs": [],
   "source": [
    "print(bleu_score([['Ils', 'sont', '.']], [[['Ils', 'sont', '.']]],max_n=1,weights=[1]))"
   ]
  },
  {
   "cell_type": "code",
   "execution_count": null,
   "id": "4cd92e96",
   "metadata": {},
   "outputs": [],
   "source": [
    "print(bleu_score(spacy_fr(gt_en[15]),spacy_fr(gt_fr[15]),max_n=1,weights=[1]))\n"
   ]
  },
  {
   "cell_type": "code",
   "execution_count": null,
   "id": "e46c2874",
   "metadata": {},
   "outputs": [],
   "source": [
    "(spacy_fr(gt_fr[15]))"
   ]
  },
  {
   "cell_type": "code",
   "execution_count": null,
   "id": "2d57085f",
   "metadata": {},
   "outputs": [],
   "source": []
  }
 ],
 "metadata": {
  "kernelspec": {
   "display_name": "Python 3 (ipykernel)",
   "language": "python",
   "name": "python3"
  },
  "language_info": {
   "codemirror_mode": {
    "name": "ipython",
    "version": 3
   },
   "file_extension": ".py",
   "mimetype": "text/x-python",
   "name": "python",
   "nbconvert_exporter": "python",
   "pygments_lexer": "ipython3",
   "version": "3.11.5"
  }
 },
 "nbformat": 4,
 "nbformat_minor": 5
}
