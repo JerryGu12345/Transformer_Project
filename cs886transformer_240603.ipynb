{
 "cells": [
  {
   "cell_type": "code",
   "execution_count": 1,
   "id": "c53cc3d7",
   "metadata": {},
   "outputs": [],
   "source": [
    "import numpy as np\n",
    "import pandas as pd\n",
    "from collections import Counter\n",
    "from timeit import default_timer as timer\n",
    "\n",
    "import torch\n",
    "import torch.nn as nn\n",
    "from torch import Tensor\n",
    "from torch.utils.data import DataLoader, Dataset, random_split\n",
    "from torchtext.data.utils import get_tokenizer\n",
    "from torchtext.vocab import build_vocab_from_iterator\n",
    "from torchtext.data.metrics import bleu_score\n",
    "import torchtext.data\n",
    "from torch.nn.utils.rnn import pad_sequence\n",
    "import spacy\n",
    "\n",
    "import math\n",
    "from copy import deepcopy\n",
    "import matplotlib.pyplot as plt\n",
    "import os\n",
    "\n",
    "import requests\n",
    "from datasets import load_dataset\n",
    "os.environ['KMP_DUPLICATE_LIB_OK'] = 'True'"
   ]
  },
  {
   "cell_type": "code",
   "execution_count": 2,
   "id": "771daacf",
   "metadata": {},
   "outputs": [],
   "source": [
    "DEVICE=\"cuda\"\n",
    "torch.manual_seed(1)\n",
    "np.random.seed(1)"
   ]
  },
  {
   "cell_type": "code",
   "execution_count": 3,
   "id": "4c65bd9d",
   "metadata": {},
   "outputs": [],
   "source": [
    "class Attention(nn.Module):\n",
    "    def __init__(self, d_model, nhead, dropout):\n",
    "        super(Attention,self).__init__()\n",
    "        self.nhead = nhead\n",
    "        self.d_model = d_model\n",
    "        self.d_k = d_model//nhead\n",
    "        self.W_q = nn.Linear(self.d_model, self.d_model)\n",
    "        self.W_k = nn.Linear(self.d_model, self.d_model)\n",
    "        self.W_v = nn.Linear(self.d_model, self.d_model)\n",
    "        self.W_o = nn.Linear(self.d_model, self.d_model)\n",
    "        \n",
    "    def forward(self, Q, K, V, pad_mask=None, attn_mask=None):\n",
    "        Q=self.W_q(Q)\n",
    "        K=self.W_k(K)\n",
    "        V=self.W_v(V)\n",
    "        \n",
    "        Q = Q.reshape(Q.shape[0], Q.shape[1], self.nhead, self.d_k).transpose(0, 2)\n",
    "        K = K.reshape(K.shape[0], K.shape[1], self.nhead, self.d_k).transpose(0, 2)\n",
    "        V = V.reshape(V.shape[0], V.shape[1], self.nhead, self.d_k).transpose(0, 2)\n",
    "        \n",
    "        X = torch.matmul(Q, K.transpose(2,3)) / math.sqrt(self.d_k)\n",
    "        if (pad_mask is not None):\n",
    "            X=X.masked_fill(pad_mask.reshape(1,pad_mask.shape[0],1,pad_mask.shape[1]), -1.0e10)\n",
    "        \n",
    "        if (attn_mask is not None):\n",
    "            X=X.masked_fill(attn_mask.reshape(1,1,attn_mask.shape[0],attn_mask.shape[1]), -1.0e10)\n",
    "        \n",
    "        X = torch.softmax(X,dim=3)\n",
    "        X = torch.matmul(X, V)\n",
    "        X = X.transpose(0,2)\n",
    "        X = X.reshape(X.shape[0],X.shape[1],X.shape[2]*X.shape[3])\n",
    "        X = self.W_o(X)\n",
    "        return X\n",
    "    \n",
    "class Encoder(nn.Module):\n",
    "    def __init__(self, d_model, nhead, d_ff, dropout):\n",
    "        super(Encoder, self).__init__()\n",
    "        self.mha = Attention(d_model, nhead, dropout)\n",
    "        #self.mha = nn.MultiheadAttention(d_model,nhead)\n",
    "        self.feed_forward = nn.Sequential(\n",
    "            nn.Linear(d_model,d_ff),\n",
    "            nn.ReLU(),\n",
    "            nn.Linear(d_ff,d_model)\n",
    "        )\n",
    "        \n",
    "        self.norm1=nn.LayerNorm(d_model)\n",
    "        self.norm2=nn.LayerNorm(d_model)\n",
    "        self.dropout=nn.Dropout(dropout)\n",
    "        \n",
    "    def forward(self, X, src_pad_mask=None):\n",
    "        sub_X = self.mha(X,X,X,src_pad_mask)\n",
    "        X=self.norm1(X+self.dropout(sub_X))\n",
    "        sub_X=self.feed_forward(X)\n",
    "        X=self.norm2(X+self.dropout(sub_X))\n",
    "        return X\n",
    "\n",
    "class Decoder(nn.Module):\n",
    "    def __init__(self, d_model, nhead, d_ff, dropout):\n",
    "        super(Decoder, self).__init__()\n",
    "        self.mha = Attention(d_model, nhead, dropout)\n",
    "        self.masked_mha = Attention(d_model, nhead, dropout)\n",
    "        #self.mha = nn.MultiheadAttention(d_model,nhead)\n",
    "        #self.masked_mha = nn.MultiheadAttention(d_model,nhead)\n",
    "        self.feed_forward = nn.Sequential(\n",
    "            nn.Linear(d_model,d_ff),\n",
    "            nn.ReLU(),\n",
    "            nn.Linear(d_ff,d_model)\n",
    "        )\n",
    "        self.norm1 = nn.LayerNorm(d_model)\n",
    "        self.norm2 = nn.LayerNorm(d_model)\n",
    "        self.norm3 = nn.LayerNorm(d_model)\n",
    "        self.dropout = nn.Dropout(dropout)\n",
    "        \n",
    "    def forward(self, X, memory, src_pad_mask=None, trg_pad_mask=None):\n",
    "        sub_X=self.masked_mha(X,X,X, trg_pad_mask, \n",
    "                              attn_mask=(1-torch.tril(torch.ones(X.shape[0],X.shape[0]))).bool().to(DEVICE))\n",
    "        X=self.norm1(X+self.dropout(sub_X))\n",
    "        sub_X = self.mha(X, memory, memory, src_pad_mask)\n",
    "        X=self.norm2(X+self.dropout(sub_X))\n",
    "        sub_X = self.feed_forward(X)\n",
    "        X=self.norm3(X+self.dropout(sub_X))\n",
    "        return X\n",
    "\n",
    "class PositionalEncoding(nn.Module):\n",
    "    def __init__(self,d_model,max_len=1000):\n",
    "        super(PositionalEncoding, self).__init__()\n",
    "        PE=torch.empty((max_len,d_model))\n",
    "        pos=torch.arange(max_len).reshape((max_len,1))\n",
    "        wave_len=10000**(torch.arange(0,d_model,step=2)/d_model)\n",
    "        PE[:,0::2]=torch.sin(pos*wave_len)\n",
    "        PE[:,1::2]=torch.cos(pos*wave_len)\n",
    "        self.register_buffer('PE', PE) #to run on gpu\n",
    "    def forward(self, X):\n",
    "        return X+self.PE[0:len(X),].reshape((len(X),1,X.shape[2]))\n",
    "\n",
    "\n",
    "class Transformer(nn.Module):\n",
    "    def __init__(self,src_vocab_size,trg_vocab_size,\n",
    "                 n_encoders=6,n_decoders=6,d_model=512,nhead=8,d_ff=2048,dropout= 0.1):\n",
    "        super(Transformer, self).__init__()\n",
    "        self.src_tok_emb = nn.Embedding(src_vocab_size, d_model)\n",
    "        self.trg_tok_emb = nn.Embedding(trg_vocab_size, d_model)\n",
    "        self.encoder = nn.ModuleList([deepcopy(Encoder(\n",
    "            d_model,nhead,d_ff,dropout\n",
    "        )) for i in range(n_encoders)])\n",
    "        self.decoder = nn.ModuleList([deepcopy(Decoder(\n",
    "            d_model,nhead,d_ff,dropout\n",
    "        )) for i in range(n_decoders)])\n",
    "        self.generator = nn.Linear(d_model, trg_vocab_size)\n",
    "        self.positional_encoding = PositionalEncoding(d_model)\n",
    "\n",
    "    def forward(self,src,trg):\n",
    "        memory = self.src_tok_emb(src)\n",
    "        memory=self.positional_encoding(memory)\n",
    "        output = self.trg_tok_emb(trg)\n",
    "        output=self.positional_encoding(output)\n",
    "        src_pad_mask=(src == PAD_IDX).transpose(0,1)\n",
    "        trg_pad_mask=(trg == PAD_IDX).transpose(0,1)\n",
    "        \n",
    "        \n",
    "        for encoder in self.encoder:\n",
    "            memory=encoder(memory,src_pad_mask)\n",
    "        for decoder in self.decoder:\n",
    "            output = decoder(output,\n",
    "                             memory,\n",
    "                             src_pad_mask,trg_pad_mask)\n",
    "\n",
    "        return self.generator(output)\n",
    "    \n",
    "    def encode(self,src):\n",
    "        memory = self.src_tok_emb(src)\n",
    "        memory=self.positional_encoding(memory)\n",
    "        for encoder in self.encoder:\n",
    "            memory=encoder(memory)\n",
    "        return memory\n",
    "\n",
    "    def decode(self,trg,memory):\n",
    "        output = self.trg_tok_emb(trg)\n",
    "        output=self.positional_encoding(output)\n",
    "        for decoder in self.decoder:\n",
    "            output = decoder(output,\n",
    "                             memory)\n",
    "        return output"
   ]
  },
  {
   "cell_type": "code",
   "execution_count": 4,
   "id": "af82fdd2",
   "metadata": {},
   "outputs": [],
   "source": [
    "#define constants\n",
    "UNK_IDX, PAD_IDX, BOS_IDX, EOS_IDX = 0, 1, 2, 3 #special token indices\n",
    "\n",
    "#get vocabularies and text tokenizers\n",
    "def get_vocab_text(dat,tokenizer):\n",
    "    counter = Counter()\n",
    "    for s in dat:\n",
    "        counter.update(list(tokenizer(s)))\n",
    "    vocab = build_vocab_from_iterator([counter], specials=['<unk>', '<pad>', '<bos>', '<eos>'])\n",
    "    vocab.set_default_index(vocab['<unk>'])\n",
    "    def text_tok(text):\n",
    "        str_tokens=tokenizer(text)\n",
    "        int_tokens=vocab(str_tokens)\n",
    "        return torch.cat((torch.tensor([BOS_IDX]),torch.tensor(int_tokens),torch.tensor([EOS_IDX])))\n",
    "    return vocab,text_tok\n",
    "    \n",
    "    \n",
    "\n",
    "class CustomDataset(Dataset):\n",
    "    def __init__(self, src, trg):\n",
    "        super().__init__()\n",
    "        self.src = src\n",
    "        self.trg = trg\n",
    "\n",
    "    def __len__(self):\n",
    "        return len(self.src)\n",
    "\n",
    "    def __getitem__(self, idx):\n",
    "        return self.src[idx], self.trg[idx]\n",
    "\n",
    "def get_dataloader(dat_src,dat_trg,text_tok_src,text_tok_trg,train_split=0.8):\n",
    "    dat_st=CustomDataset(dat_src,dat_trg)\n",
    "    train_data, val_data = random_split(dat_st, [train_split, 1-train_split])\n",
    "    def collate_fn(batch):\n",
    "        src_batch, trg_batch = [], []\n",
    "        for src,trg in batch:\n",
    "            src_batch.append(text_tok_src(src))\n",
    "            trg_batch.append(text_tok_trg(trg))\n",
    "        return pad_sequence(src_batch, padding_value=PAD_IDX), pad_sequence(trg_batch, padding_value=PAD_IDX)\n",
    "\n",
    "    train_dataloader = DataLoader(train_data, batch_size=128, collate_fn=collate_fn)\n",
    "    val_dataloader = DataLoader(val_data, batch_size=128, collate_fn=collate_fn)\n",
    "    return train_dataloader, val_dataloader\n"
   ]
  },
  {
   "cell_type": "code",
   "execution_count": 13,
   "id": "a2ffdf38",
   "metadata": {},
   "outputs": [
    {
     "name": "stdout",
     "output_type": "stream",
     "text": [
      "150000\n"
     ]
    }
   ],
   "source": [
    "#downloaded from https://www.kaggle.com/datasets/devicharith/language-translation-englishfrench\n",
    "dat=pd.read_csv(\"eng_-french.csv\") \n",
    "dat_en=dat[\"English words/sentences\"].to_numpy()[0:150000]\n",
    "dat_fr=dat[\"French words/sentences\"].to_numpy()[0:150000]\n",
    "print(len(dat_en))\n",
    "\n",
    "#get tokenizers\n",
    "spacy_en = get_tokenizer('spacy', language='en_core_web_sm')\n",
    "spacy_fr = get_tokenizer('spacy', language='fr_core_news_sm')"
   ]
  },
  {
   "cell_type": "code",
   "execution_count": 14,
   "id": "81b3a228",
   "metadata": {},
   "outputs": [
    {
     "name": "stdout",
     "output_type": "stream",
     "text": [
      "tensor([   2, 1965,  597,  115,    3])\n"
     ]
    }
   ],
   "source": [
    "vocab_en,text_en=get_vocab_text(dat_en,spacy_en)\n",
    "print(text_en(\"hello world!\"))\n",
    "vocab_fr,text_fr=get_vocab_text(dat_fr,spacy_fr)\n",
    "\n",
    "train_dataloader, val_dataloader = get_dataloader(dat_en,dat_fr,text_en,text_fr)"
   ]
  },
  {
   "cell_type": "code",
   "execution_count": null,
   "id": "3d41a8cc",
   "metadata": {},
   "outputs": [],
   "source": []
  },
  {
   "cell_type": "code",
   "execution_count": 15,
   "id": "711b5f9b",
   "metadata": {},
   "outputs": [],
   "source": [
    "def train(transformer, train_dataloader, val_dataloader,  criterion, optimizer, plt_title, epochs=10):\n",
    "    start=timer()\n",
    "    train_loss=np.zeros(epochs)\n",
    "    val_loss=np.zeros(epochs)\n",
    "    for epoch in range(epochs):\n",
    "        #print(f\"epoch {epoch}\")\n",
    "        transformer.train()\n",
    "\n",
    "        for src, trg in train_dataloader:\n",
    "            src = src.to(DEVICE)\n",
    "            trg = trg.to(DEVICE)\n",
    "            out = transformer(src, trg[:-1, :])\n",
    "            out = out.reshape(out.shape[0]*out.shape[1],out.shape[2])\n",
    "            loss = criterion(out, trg[1:, :].flatten())\n",
    "            optimizer.zero_grad()\n",
    "            loss.backward()\n",
    "            train_loss[epoch] += loss.item()\n",
    "            optimizer.step()\n",
    "        #print(f\"training loss: {train_loss/len(list(train_dataloader))}\")\n",
    "        #print(f\"time: {timer()-start}\")\n",
    "\n",
    "        transformer.eval()\n",
    "\n",
    "        for src, trg in val_dataloader:\n",
    "            src = src.to(DEVICE)\n",
    "            trg = trg.to(DEVICE)\n",
    "            out = transformer(src, trg[:-1, :])\n",
    "            out = out.reshape(out.shape[0]*out.shape[1],out.shape[2])\n",
    "            loss = criterion(out, trg[1:, :].flatten())\n",
    "            val_loss[epoch] += loss.item()\n",
    "\n",
    "        #print(f\"validation loss: {val_loss/len(list(val_dataloader))}\")\n",
    "        print(f\"time: {timer()-start}\")\n",
    "    \n",
    "    train_loss/=len(list(train_dataloader))\n",
    "    val_loss/=len(list(val_dataloader))\n",
    "    print(train_loss)\n",
    "    print(val_loss)\n",
    "    #'''\n",
    "    plt.plot(range(epochs),train_loss,label=\"training\")\n",
    "    plt.plot(range(epochs),val_loss,label=\"validation\")\n",
    "    plt.title(plt_title)\n",
    "    plt.legend()\n",
    "    plt.ylabel(\"loss\")\n",
    "    plt.xlabel(\"epoch\")\n",
    "    plt.ylim([0,0.1+np.max([train_loss,val_loss])])\n",
    "    plt.show()\n",
    "    plt.clf()\n",
    "    #'''"
   ]
  },
  {
   "cell_type": "code",
   "execution_count": null,
   "id": "0a791549",
   "metadata": {},
   "outputs": [],
   "source": []
  },
  {
   "cell_type": "code",
   "execution_count": 16,
   "id": "b9305c1e",
   "metadata": {},
   "outputs": [
    {
     "name": "stdout",
     "output_type": "stream",
     "text": [
      "time: 85.83885949995602\n",
      "time: 174.59704829996917\n",
      "time: 267.94315429998096\n",
      "time: 362.14019689999986\n",
      "time: 456.0761951999739\n",
      "time: 550.9929549999651\n",
      "time: 646.1972092999495\n",
      "time: 742.5578253999702\n",
      "time: 840.0439936000039\n",
      "time: 938.5943039999693\n",
      "[2.2115379  1.47187729 1.50240857 1.31375717 1.36698973 1.36753026\n",
      " 1.14232701 1.06259261 1.0059319  0.88637438]\n",
      "[1.66090413 1.59831431 1.57604956 1.47068446 2.14603294 1.50782394\n",
      " 1.49882895 1.4741118  1.36506919 1.33307987]\n"
     ]
    },
    {
     "data": {
      "image/png": "[encoded data removed]",
      "text/plain": [
       "<Figure size 640x480 with 1 Axes>"
      ]
     },
     "metadata": {},
     "output_type": "display_data"
    },
    {
     "data": {
      "text/plain": [
       "<Figure size 640x480 with 0 Axes>"
      ]
     },
     "metadata": {},
     "output_type": "display_data"
    }
   ],
   "source": [
    "transformer = Transformer(len(vocab_en), len(vocab_fr),3,3, 512, 8,  512, 0.1).to(DEVICE)\n",
    "criterion = torch.nn.CrossEntropyLoss(ignore_index=PAD_IDX)\n",
    "optimizer = torch.optim.Adam(transformer.parameters())\n",
    "train(transformer, train_dataloader, val_dataloader,  criterion, optimizer,\"\")"
   ]
  },
  {
   "cell_type": "code",
   "execution_count": null,
   "id": "641d8c4a",
   "metadata": {},
   "outputs": [],
   "source": []
  },
  {
   "cell_type": "code",
   "execution_count": 10,
   "id": "ff036478",
   "metadata": {},
   "outputs": [],
   "source": [
    "def translate(model, src):\n",
    "    src=text_en(src)\n",
    "    src=src.reshape(len(src),1).to(DEVICE)\n",
    "    trg=[BOS_IDX]\n",
    "    memory = model.encode(src)\n",
    "    for i in range(len(src)+10):\n",
    "        out=model.decode(torch.tensor(trg).reshape(len(trg),1).to(DEVICE), memory)\n",
    "        prob=model.generator(out[i])\n",
    "        next_word=torch.argmax(prob)\n",
    "        trg+=[next_word]\n",
    "        if next_word==EOS_IDX:\n",
    "            break\n",
    "    trg=vocab_fr.lookup_tokens(trg)\n",
    "    return trg[1:(len(trg)-1)]\n",
    "\n",
    "def evaluate(model, test_src, test_trg, samp_size, max_n, verbose=False):\n",
    "    samp_size = np.min((samp_size,len(test_src)))\n",
    "    score=np.empty(samp_size)\n",
    "    samp=np.random.choice(len(test_src), samp_size, replace=False)\n",
    "    for i in range(samp_size):\n",
    "        idx=samp[i]\n",
    "        pred=translate(model,test_src[idx])\n",
    "        if (verbose):\n",
    "            print(test_trg[idx])\n",
    "            print(\" \".join(pred))\n",
    "        score[i]=bleu_score([pred], [[spacy_fr(test_trg[idx])]],max_n=max_n,weights=np.full(max_n,1/max_n))\n",
    "    return np.mean(score),np.std(score)\n"
   ]
  },
  {
   "cell_type": "code",
   "execution_count": 20,
   "id": "7d45a700",
   "metadata": {},
   "outputs": [
    {
     "name": "stdout",
     "output_type": "stream",
     "text": [
      "Je suis .\n",
      "Vous êtes .\n",
      "Il est .\n",
      "Elle est .\n",
      "Nous sommes cousines .\n",
      "Elles sont disputées .\n"
     ]
    }
   ],
   "source": [
    "print(\" \".join(translate(transformer,\"I am.\")))\n",
    "print(\" \".join(translate(transformer,\"You are.\")))\n",
    "print(\" \".join(translate(transformer,\"He is.\")))\n",
    "print(\" \".join(translate(transformer,\"She is.\")))\n",
    "print(\" \".join(translate(transformer,\"We are.\")))\n",
    "print(\" \".join(translate(transformer,\"They are.\")))"
   ]
  },
  {
   "cell_type": "code",
   "execution_count": 22,
   "id": "b2202d67",
   "metadata": {},
   "outputs": [],
   "source": [
    "#downloaded from https://huggingface.co/datasets/Nicolas-BZRD/Parallel_Global_Voices_English_French\n",
    "dat1=pd.read_parquet(\"eng_-french2.parquet\")"
   ]
  },
  {
   "cell_type": "code",
   "execution_count": 23,
   "id": "e216cc07",
   "metadata": {},
   "outputs": [],
   "source": [
    "dat1_en=dat1[\"en\"].to_numpy()[0:10000]\n",
    "dat1_fr=dat1[\"fr\"].to_numpy()[0:10000]"
   ]
  },
  {
   "cell_type": "code",
   "execution_count": 24,
   "id": "4a5940b8",
   "metadata": {},
   "outputs": [
    {
     "name": "stdout",
     "output_type": "stream",
     "text": [
      "(0.34987242880870906, 0.40200241758670113)\n",
      "(0.010633491030952517, 0.05669263078028681)\n"
     ]
    }
   ],
   "source": [
    "print(evaluate(transformer, dat_en, dat_fr, 1000, 4))\n",
    "print(evaluate(transformer, dat1_en, dat1_fr, 1000, 4))"
   ]
  },
  {
   "cell_type": "code",
   "execution_count": null,
   "id": "cf5736c4",
   "metadata": {},
   "outputs": [],
   "source": [
    "def tune_layers(n_encoders,n_decoders):\n",
    "    transformer = Transformer(len(vocab_en), len(vocab_fr),n_encoders,n_decoders, 512, 8,  512, 0.1).to(DEVICE)\n",
    "    criterion = torch.nn.CrossEntropyLoss(ignore_index=PAD_IDX)\n",
    "    optimizer = torch.optim.Adam(transformer.parameters())\n",
    "    train(transformer, train_dataloader,val_dataloader,\n",
    "          criterion, optimizer, \"{} encoders, {} decoders\".format(n_encoders,n_decoders))\n",
    "    print(evaluate(transformer, dat_en, dat_fr, 1000, 4))\n",
    "    print(evaluate(transformer, dat1_en, dat1_fr, 1000, 4))\n",
    "    return transformer"
   ]
  },
  {
   "cell_type": "code",
   "execution_count": null,
   "id": "3a0d937b",
   "metadata": {},
   "outputs": [],
   "source": [
    "transformer=tune_layers(4,4)"
   ]
  },
  {
   "cell_type": "code",
   "execution_count": null,
   "id": "77536a7e",
   "metadata": {},
   "outputs": [],
   "source": []
  },
  {
   "cell_type": "code",
   "execution_count": null,
   "id": "8bdcb905",
   "metadata": {},
   "outputs": [],
   "source": []
  },
  {
   "cell_type": "code",
   "execution_count": null,
   "id": "31d85169",
   "metadata": {},
   "outputs": [],
   "source": []
  },
  {
   "cell_type": "code",
   "execution_count": null,
   "id": "73d84121",
   "metadata": {},
   "outputs": [],
   "source": []
  },
  {
   "cell_type": "code",
   "execution_count": null,
   "id": "07ce7faa",
   "metadata": {},
   "outputs": [],
   "source": [
    "def evaluate(model, test_src, test_trg, samp_size, max_n, verbose=False):\n",
    "    samp_size = np.min((samp_size,len(test_src)))\n",
    "    score=np.empty(samp_size)\n",
    "    samp=np.random.choice(len(test_src), samp_size, replace=False)\n",
    "    for i in range(samp_size):\n",
    "        idx=samp[i]\n",
    "        pred=translate(model,test_src[idx])\n",
    "        if (verbose):\n",
    "            print(test_trg[idx])\n",
    "            print(\" \".join(pred))\n",
    "        score[i]=bleu_score([pred], [spacy_fr(test_trg[idx])],max_n=max_n,weights=np.full(max_n,1/max_n))\n",
    "    return np.mean(score),np.std(score)\n"
   ]
  },
  {
   "cell_type": "code",
   "execution_count": null,
   "id": "4c8ecf84",
   "metadata": {},
   "outputs": [],
   "source": [
    "def evaluate_baseline(pred, test_trg, max_n, verbose=False):\n",
    "    samp_size = len(pred)\n",
    "    for i in range(samp_size):\n",
    "        score[i]=bleu_score([pred[i]], [spacy_fr(test_trg[i])],max_n=max_n,weights=np.full(max_n,1/max_n))\n",
    "    return np.mean(score),np.std(score)\n"
   ]
  },
  {
   "cell_type": "code",
   "execution_count": null,
   "id": "73319077",
   "metadata": {},
   "outputs": [],
   "source": []
  },
  {
   "cell_type": "code",
   "execution_count": null,
   "id": "2d57085f",
   "metadata": {},
   "outputs": [],
   "source": []
  }
 ],
 "metadata": {
  "kernelspec": {
   "display_name": "Python 3 (ipykernel)",
   "language": "python",
   "name": "python3"
  },
  "language_info": {
   "codemirror_mode": {
    "name": "ipython",
    "version": 3
   },
   "file_extension": ".py",
   "mimetype": "text/x-python",
   "name": "python",
   "nbconvert_exporter": "python",
   "pygments_lexer": "ipython3",
   "version": "3.11.5"
  }
 },
 "nbformat": 4,
 "nbformat_minor": 5
}
